{
 "cells": [
  {
   "cell_type": "code",
   "execution_count": 1,
   "metadata": {},
   "outputs": [],
   "source": [
    "# Bubble Sort...\n",
    "def bubble_sort(arr):\n",
    "    for i in range(len(arr)-1 , 0 , -1):\n",
    "        for j in range(i):\n",
    "            if arr[j] > arr[j+1]:\n",
    "                arr[j] , arr[j+1] = arr[j+1] , arr[j]\n",
    "\n",
    "\n",
    "    return arr\n",
    "\n",
    "\n"
   ]
  },
  {
   "cell_type": "code",
   "execution_count": 3,
   "metadata": {},
   "outputs": [
    {
     "data": {
      "text/plain": [
       "[1, 2, 2, 2, 2, 3, 4, 5]"
      ]
     },
     "execution_count": 3,
     "metadata": {},
     "output_type": "execute_result"
    }
   ],
   "source": [
    "bubble_sort([5,3,1,2,4,2,2,2])"
   ]
  },
  {
   "cell_type": "code",
   "execution_count": 4,
   "metadata": {},
   "outputs": [],
   "source": [
    "def bubble_sort1(arr):\n",
    "    n = len(arr)\n",
    "    for i in range(n):\n",
    "\n",
    "        for j in range(0,n-i-1):\n",
    "            if arr[j] > arr[j+1] :\n",
    "                arr[j] , arr[j+1] = arr[j+1] , arr[j]\n",
    "\n",
    "    return arr            "
   ]
  },
  {
   "cell_type": "code",
   "execution_count": 6,
   "metadata": {},
   "outputs": [
    {
     "data": {
      "text/plain": [
       "[1, 2, 3, 4, 5]"
      ]
     },
     "execution_count": 6,
     "metadata": {},
     "output_type": "execute_result"
    }
   ],
   "source": [
    "bubble_sort1([5,3,1,2,4])"
   ]
  },
  {
   "cell_type": "code",
   "execution_count": 7,
   "metadata": {},
   "outputs": [],
   "source": [
    "# Optimized bubble sort\n",
    "\n",
    "def bubble_sort_optimized(arr):\n",
    "    for i in range(len(arr)-1,0,-1):\n",
    "        isSorted = True\n",
    "\n",
    "        for j in range(i):\n",
    "            if arr[j] > arr[j+1] :\n",
    "                arr[j] , arr[j+1] = arr[j+1] , arr[j] \n",
    "                isSorted = False\n",
    "\n",
    "        if isSorted == True:\n",
    "            return arr\n",
    "\n",
    "    return arr            "
   ]
  },
  {
   "cell_type": "code",
   "execution_count": 12,
   "metadata": {},
   "outputs": [
    {
     "data": {
      "text/plain": [
       "[2, 4, 5, 6, 7, 50, 70]"
      ]
     },
     "execution_count": 12,
     "metadata": {},
     "output_type": "execute_result"
    }
   ],
   "source": [
    "bubble_sort_optimized([50,2,70,4,5,6,7])"
   ]
  },
  {
   "cell_type": "code",
   "execution_count": 21,
   "metadata": {},
   "outputs": [],
   "source": [
    "# check the given array is sorted or not\n",
    "class CheckArray:\n",
    "    def __init__(self , arr):\n",
    "        self.arr = arr\n",
    "\n",
    "    def CheckIsSorted(self):\n",
    "        size = len(self.arr)\n",
    "        for i in range(size):\n",
    "            for j in range(0,size-i-1):\n",
    "                if self.arr[j] > self.arr[j+1]:\n",
    "                    self.arr[j] , self.arr[j+1] =  self.arr[j+1] , self.arr[j]   \n",
    "                    return False\n",
    "            \n",
    "            return True\n",
    "                        "
   ]
  },
  {
   "cell_type": "code",
   "execution_count": 25,
   "metadata": {},
   "outputs": [
    {
     "data": {
      "text/plain": [
       "True"
      ]
     },
     "execution_count": 25,
     "metadata": {},
     "output_type": "execute_result"
    }
   ],
   "source": [
    "a1 = CheckArray([1,4,5,6,7])\n",
    "a1.CheckIsSorted()"
   ]
  },
  {
   "cell_type": "code",
   "execution_count": 40,
   "metadata": {},
   "outputs": [],
   "source": [
    "# Selection Sort\n",
    "def Selection_sort(arr):\n",
    "    size = len(arr)\n",
    "    \n",
    "    for i in range(size): \n",
    "        min = i  \n",
    "        for j in range(i+1,size):\n",
    "            if arr[j] < arr[min]:\n",
    "                min = j\n",
    "        arr[i] , arr[min] = arr[min] , arr[i] \n",
    "\n",
    "    return arr        \n",
    "\n"
   ]
  },
  {
   "cell_type": "code",
   "execution_count": 41,
   "metadata": {},
   "outputs": [
    {
     "data": {
      "text/plain": [
       "[1, 2, 4, 5, 5, 6]"
      ]
     },
     "execution_count": 41,
     "metadata": {},
     "output_type": "execute_result"
    }
   ],
   "source": [
    "Selection_sort([1,4,5,2,5,6])"
   ]
  },
  {
   "cell_type": "code",
   "execution_count": 42,
   "metadata": {},
   "outputs": [],
   "source": [
    "# Insertion sort\n",
    "def insertion_sort(arr):\n",
    "    for i in range(1, len(arr)):\n",
    "        v = arr[i]\n",
    "        j = i\n",
    "        while (j>=1 and arr[j-1] > v):\n",
    "            arr[j] = arr[j-1]\n",
    "            j-=1\n",
    "\n",
    "        arr[j] = v    \n",
    "    return arr    \n"
   ]
  },
  {
   "cell_type": "code",
   "execution_count": 43,
   "metadata": {},
   "outputs": [
    {
     "data": {
      "text/plain": [
       "[0, 1, 2, 3, 4, 15]"
      ]
     },
     "execution_count": 43,
     "metadata": {},
     "output_type": "execute_result"
    }
   ],
   "source": [
    "insertion_sort([15,3,4,1,2,0])"
   ]
  },
  {
   "cell_type": "code",
   "execution_count": 41,
   "metadata": {},
   "outputs": [],
   "source": [
    "# bubble sort algorithm\n",
    "\n",
    "def bubbleSort(arr):\n",
    "    size = len(arr) # 4\n",
    "    isSorted = True\n",
    "    for i in range(size): #(0 to 3) 4 times\n",
    "        # when i = 0 , i = 1 , i = 2 , i = 3\n",
    "        for j in range(size-i-1): # (0 to 4-0-1) , (0 to 4-1-1) , (0 to 4-2-1) , 0\n",
    "            if arr[j] > arr[j+1]:  #[0,3,5,6] , [0,3,5,6] [0,3,5,6]\n",
    "                arr[j] , arr[j+1] = arr[j+1] ,arr[j]\n",
    "            isSorted = False\n",
    "\n",
    "        if isSorted == True :\n",
    "            return arr         \n",
    "   \n",
    "    return arr       "
   ]
  },
  {
   "cell_type": "code",
   "execution_count": 42,
   "metadata": {},
   "outputs": [
    {
     "data": {
      "text/plain": [
       "[0, 0, 3, 5]"
      ]
     },
     "execution_count": 42,
     "metadata": {},
     "output_type": "execute_result"
    }
   ],
   "source": [
    "bubbleSort([0,0,3,5]) # bubble sort are stable sort : if the two elements are same in the list and we are trying to sort those list then the respective position will not change then those types of sort is called stable sort...\n",
    "# Bubble Sort is Stable Sort"
   ]
  },
  {
   "cell_type": "code",
   "execution_count": 43,
   "metadata": {},
   "outputs": [],
   "source": [
    "# bubble sort with another logic\n",
    "def bubbleSort1(arr):\n",
    "    size = len(arr)\n",
    "    for i in range(size-1,0,-1):\n",
    "        for j in range(i):\n",
    "            if arr[j] > arr[j+1] :\n",
    "                arr[j] , arr[j+1] = arr[j+1] , arr[j]\n",
    "    return arr            \n",
    "              "
   ]
  },
  {
   "cell_type": "code",
   "execution_count": 21,
   "metadata": {},
   "outputs": [
    {
     "data": {
      "text/plain": [
       "[1, 3, 4, 5, 5, 9]"
      ]
     },
     "execution_count": 21,
     "metadata": {},
     "output_type": "execute_result"
    }
   ],
   "source": [
    "bubbleSort1([4,5,9,1,3,5])"
   ]
  },
  {
   "cell_type": "code",
   "execution_count": 10,
   "metadata": {},
   "outputs": [],
   "source": [
    "# optimized bubble sort..\n",
    "def bubbleSort2(arr):\n",
    "    for i in range(len(arr)-1,0,-1):\n",
    "        IsSorted = True\n",
    "        for j in range(i):\n",
    "            if arr[j] > arr[j+1]:\n",
    "                arr[j] , arr[j+1] = arr[j+1] , arr[j]\n",
    "                IsSorted = False\n",
    "        if IsSorted == True :\n",
    "            return arr\n",
    "    return arr    "
   ]
  },
  {
   "cell_type": "code",
   "execution_count": 11,
   "metadata": {},
   "outputs": [
    {
     "data": {
      "text/plain": [
       "[1, 3, 4, 5, 6, 7, 8, 9, 9, 10]"
      ]
     },
     "execution_count": 11,
     "metadata": {},
     "output_type": "execute_result"
    }
   ],
   "source": [
    "bubbleSort2([1,9,3,4,5,6,7,8,9,10])"
   ]
  },
  {
   "cell_type": "code",
   "execution_count": 19,
   "metadata": {},
   "outputs": [],
   "source": [
    "# Selection Sort.......\n",
    "def selectionSort1(arr):\n",
    "    size = len(arr)\n",
    "    for i in range(size):\n",
    "        select = i\n",
    "        for j in range(i+1,size):\n",
    "            if arr[j] < arr[select]:\n",
    "                select = j\n",
    "        arr[i] , arr[select] = arr[select] , arr[i]\n",
    "        \n",
    "    return arr"
   ]
  },
  {
   "cell_type": "code",
   "execution_count": 20,
   "metadata": {},
   "outputs": [
    {
     "data": {
      "text/plain": [
       "[3, 4, 51]"
      ]
     },
     "execution_count": 20,
     "metadata": {},
     "output_type": "execute_result"
    }
   ],
   "source": [
    "selectionSort1([3,4,51])"
   ]
  },
  {
   "cell_type": "code",
   "execution_count": 1,
   "metadata": {},
   "outputs": [],
   "source": [
    "# Selection sort..\n",
    "def Selection_sort(arr):\n",
    "    size = len(arr)\n",
    "    for i in range(size):\n",
    "        min = i\n",
    "        for j in range(i+1,size):\n",
    "            if arr[j] < arr[min] :\n",
    "                min = j\n",
    "\n",
    "        arr[i],arr[min] = arr[min], arr[i]\n",
    "\n",
    "    return arr         "
   ]
  },
  {
   "cell_type": "code",
   "execution_count": 3,
   "metadata": {},
   "outputs": [
    {
     "data": {
      "text/plain": [
       "[1, 2, 3, 4, 5, 6, 7]"
      ]
     },
     "execution_count": 3,
     "metadata": {},
     "output_type": "execute_result"
    }
   ],
   "source": [
    "Selection_sort([1,2,3,4,5,6,7])"
   ]
  },
  {
   "cell_type": "code",
   "execution_count": 4,
   "metadata": {},
   "outputs": [],
   "source": [
    "def Insertion_sort(arr):\n",
    "    size = len(arr)\n",
    "    for i in range(1,size):\n",
    "        key = arr[i]\n",
    "        j = i-1\n",
    "        while ( j >=0  and key<arr[j]):\n",
    "            arr[j+1] = arr[j]\n",
    "            j-=1\n",
    "\n",
    "        arr[j+1] = key\n",
    "    return arr        "
   ]
  },
  {
   "cell_type": "code",
   "execution_count": 6,
   "metadata": {},
   "outputs": [
    {
     "data": {
      "text/plain": [
       "[1, 1, 2, 2, 4, 4, 7]"
      ]
     },
     "execution_count": 6,
     "metadata": {},
     "output_type": "execute_result"
    }
   ],
   "source": [
    "Insertion_sort([2,7,4,1,1,2,4])"
   ]
  },
  {
   "cell_type": "code",
   "execution_count": 16,
   "metadata": {},
   "outputs": [],
   "source": [
    "# linear serach\n",
    "def selection(arr):\n",
    "    size = len(arr)\n",
    "    for i in range(size):\n",
    "        min = i\n",
    "        for j in range(i+1,size):\n",
    "            if arr[j] < arr[min]:\n",
    "                min = j\n",
    "        arr[i],arr[min] = arr[min] , arr[i]\n",
    "    return arr             \n"
   ]
  },
  {
   "cell_type": "code",
   "execution_count": 17,
   "metadata": {},
   "outputs": [
    {
     "data": {
      "text/plain": [
       "[1, 3, 4, 5, 6]"
      ]
     },
     "execution_count": 17,
     "metadata": {},
     "output_type": "execute_result"
    }
   ],
   "source": [
    "selection([4,3,5,6,1])"
   ]
  },
  {
   "cell_type": "code",
   "execution_count": 18,
   "metadata": {},
   "outputs": [],
   "source": [
    "#Linear search..\n",
    "def linear_search(arr , target):\n",
    "    for i in range(len(arr)):\n",
    "        if arr[i] == target:\n",
    "            return i\n",
    "        \n",
    "    return -1"
   ]
  },
  {
   "cell_type": "code",
   "execution_count": 19,
   "metadata": {},
   "outputs": [
    {
     "data": {
      "text/plain": [
       "1"
      ]
     },
     "execution_count": 19,
     "metadata": {},
     "output_type": "execute_result"
    }
   ],
   "source": [
    "linear_search([1,2,3,4,5,6,7] , 2)"
   ]
  },
  {
   "cell_type": "code",
   "execution_count": 20,
   "metadata": {},
   "outputs": [],
   "source": [
    "# binary Search \n",
    "def binarySearch(arr , target):\n",
    "    left = 0\n",
    "    right = len(arr)-1\n",
    "    while (left<=right):\n",
    "        mid = (left+right)//2\n",
    "\n",
    "        if arr[mid] == target :\n",
    "            return mid\n",
    "        \n",
    "        elif arr[mid] < target :\n",
    "            left = mid + 1\n",
    "\n",
    "        else:\n",
    "            right = mid -1    \n"
   ]
  },
  {
   "cell_type": "code",
   "execution_count": 21,
   "metadata": {},
   "outputs": [
    {
     "data": {
      "text/plain": [
       "6"
      ]
     },
     "execution_count": 21,
     "metadata": {},
     "output_type": "execute_result"
    }
   ],
   "source": [
    "binarySearch([2,5,7,9,10,11,12,13] , 12)"
   ]
  },
  {
   "cell_type": "code",
   "execution_count": 1,
   "metadata": {},
   "outputs": [],
   "source": [
    "# Find the Smallest number by using recursion .... [3,2,4,8,9,5]\n",
    "def Smallest(arr):\n",
    "    if len(arr)<=1:\n",
    "        return arr[0]\n",
    "    \n",
    "    else:\n",
    "        return min(arr[0] ,Smallest(arr[1:])) # min(3 ,( 2, min(4,8)))"
   ]
  },
  {
   "cell_type": "code",
   "execution_count": 2,
   "metadata": {},
   "outputs": [
    {
     "data": {
      "text/plain": [
       "2"
      ]
     },
     "execution_count": 2,
     "metadata": {},
     "output_type": "execute_result"
    }
   ],
   "source": [
    "Smallest([3,2,4,8])"
   ]
  },
  {
   "cell_type": "code",
   "execution_count": 3,
   "metadata": {},
   "outputs": [],
   "source": [
    "def SmallestNumber(arr):\n",
    "    if len(arr) <=1:\n",
    "        return arr[0]\n",
    "    \n",
    "    else:\n",
    "         smallest = SmallestNumber(arr[1:])\n",
    "         if arr[0] < smallest :\n",
    "             return arr[0]\n",
    "         \n",
    "         else:\n",
    "             return smallest"
   ]
  },
  {
   "cell_type": "code",
   "execution_count": 5,
   "metadata": {},
   "outputs": [
    {
     "data": {
      "text/plain": [
       "2"
      ]
     },
     "execution_count": 5,
     "metadata": {},
     "output_type": "execute_result"
    }
   ],
   "source": [
    "SmallestNumber([3,2,4,8,9,5])"
   ]
  },
  {
   "cell_type": "code",
   "execution_count": 6,
   "metadata": {},
   "outputs": [],
   "source": [
    "# another logic to find the smallest number\n",
    "def Smallest(arr , SI):\n",
    "    if SI >= len(arr):\n",
    "        return 999999\n",
    "    \n",
    "    else:\n",
    "        return min(arr[SI] , Smallest(arr , SI+1))"
   ]
  },
  {
   "cell_type": "code",
   "execution_count": 8,
   "metadata": {},
   "outputs": [
    {
     "data": {
      "text/plain": [
       "2"
      ]
     },
     "execution_count": 8,
     "metadata": {},
     "output_type": "execute_result"
    }
   ],
   "source": [
    "Smallest([3,2,4,8,9,5] , 0)"
   ]
  },
  {
   "cell_type": "code",
   "execution_count": 9,
   "metadata": {},
   "outputs": [],
   "source": [
    "# tower of hanoi problems\n",
    "def towerHanoi(n , s , d , a):\n",
    "    if n==1 :\n",
    "        return 1\n",
    "    \n",
    "    else:\n",
    "        return towerHanoi(n-1 , s , a , d) + 1 + towerHanoi(n-1,a , d ,s)\n",
    "    "
   ]
  },
  {
   "cell_type": "code",
   "execution_count": 13,
   "metadata": {},
   "outputs": [
    {
     "data": {
      "text/plain": [
       "3"
      ]
     },
     "execution_count": 13,
     "metadata": {},
     "output_type": "execute_result"
    }
   ],
   "source": [
    "# towerHanoi(1,\"s\" ,\"d\" , \"a\")\n",
    "towerHanoi(2,\"s\" ,\"d\" , \"a\")\n",
    "# towerHanoi(3,\"s\" ,\"d\" , \"a\")  # three stage - source , destination , auxiloury/ helper"
   ]
  },
  {
   "cell_type": "code",
   "execution_count": 14,
   "metadata": {},
   "outputs": [],
   "source": [
    "# Search using recursion\n",
    "def Linear_search(arr , SI , data):\n",
    "    if SI>=len(arr) :\n",
    "        return -1\n",
    "    elif arr[SI] == data:\n",
    "        return SI\n",
    "    \n",
    "    else:\n",
    "        return Linear_search(arr , SI+1 , data)"
   ]
  },
  {
   "cell_type": "code",
   "execution_count": 15,
   "metadata": {},
   "outputs": [
    {
     "data": {
      "text/plain": [
       "2"
      ]
     },
     "execution_count": 15,
     "metadata": {},
     "output_type": "execute_result"
    }
   ],
   "source": [
    "Linear_search([1,5,3,8,9],0,3)"
   ]
  },
  {
   "cell_type": "code",
   "execution_count": 16,
   "metadata": {},
   "outputs": [],
   "source": [
    "# Binary Search Recursion\n",
    "def binarySearch(arr , left ,right , data):\n",
    "    mid = (left+right)// 2\n",
    "\n",
    "    if left > right :\n",
    "        return -1\n",
    "    \n",
    "    elif (arr[mid] == data):\n",
    "          return mid\n",
    "    \n",
    "    elif arr[mid] < data :\n",
    "         return binarySearch(arr,mid+1 , right ,data)\n",
    "    \n",
    "    else:\n",
    "         return binarySearch(arr,left,mid-1,data)\n",
    "         \n",
    "\n"
   ]
  },
  {
   "cell_type": "code",
   "execution_count": 18,
   "metadata": {},
   "outputs": [
    {
     "data": {
      "text/plain": [
       "-1"
      ]
     },
     "execution_count": 18,
     "metadata": {},
     "output_type": "execute_result"
    }
   ],
   "source": [
    "binarySearch([1,2,3,4,5,6],0,5,8)"
   ]
  },
  {
   "cell_type": "code",
   "execution_count": 34,
   "metadata": {},
   "outputs": [],
   "source": [
    "# right a recursion to solve the find the reverse of the arr\n",
    "def reverse1(arr):\n",
    "    if len(arr)==0:\n",
    "        return []\n",
    "    \n",
    "    else:\n",
    "        return [arr[-1]] + reverse1(arr[:len(arr)-1])\n",
    "        # return [arr[-1]] + reverse1(arr[:-1])\n"
   ]
  },
  {
   "cell_type": "code",
   "execution_count": 36,
   "metadata": {},
   "outputs": [
    {
     "data": {
      "text/plain": [
       "[6, 5, 4, 3, 2, 1]"
      ]
     },
     "execution_count": 36,
     "metadata": {},
     "output_type": "execute_result"
    }
   ],
   "source": [
    "reverse1([1,2,3,4,5,6])"
   ]
  },
  {
   "cell_type": "code",
   "execution_count": 37,
   "metadata": {},
   "outputs": [],
   "source": [
    "# reverse\n",
    "def reverse2(arr):\n",
    "    return arr[::-1]"
   ]
  },
  {
   "cell_type": "code",
   "execution_count": 38,
   "metadata": {},
   "outputs": [
    {
     "data": {
      "text/plain": [
       "[6, 5, 4, 3, 2, 1]"
      ]
     },
     "execution_count": 38,
     "metadata": {},
     "output_type": "execute_result"
    }
   ],
   "source": [
    "reverse2([1,2,3,4,5,6])"
   ]
  },
  {
   "cell_type": "code",
   "execution_count": 45,
   "metadata": {},
   "outputs": [],
   "source": [
    "#reverse \n",
    "def reverse3(arr):\n",
    "    reverse_array = []\n",
    "    for i in range(len(arr)-1,0,-1):\n",
    "\n",
    "        reverse_array.append(i)\n",
    "\n",
    "    return reverse_array    \n",
    "\n",
    "\n",
    "\n"
   ]
  },
  {
   "cell_type": "code",
   "execution_count": 46,
   "metadata": {},
   "outputs": [
    {
     "data": {
      "text/plain": [
       "[5, 4, 3, 2, 1]"
      ]
     },
     "execution_count": 46,
     "metadata": {},
     "output_type": "execute_result"
    }
   ],
   "source": [
    "reverse3([1,2,3,4,5,6])"
   ]
  },
  {
   "cell_type": "code",
   "execution_count": 54,
   "metadata": {},
   "outputs": [
    {
     "name": "stdout",
     "output_type": "stream",
     "text": [
      "[9, 5, 4, 3, 2, 1]\n"
     ]
    }
   ],
   "source": [
    "def reverse_(arr):\n",
    "    size = len(arr)\n",
    "    for i in range(size // 2):\n",
    "        \n",
    "        arr[i], arr[size - i - 1] = arr[size - i - 1], arr[i]\n",
    "    \n",
    "    return arr\n",
    "\n",
    "arr = [1, 2, 3, 4, 5,9]\n",
    "print(reverse_(arr))\n"
   ]
  },
  {
   "cell_type": "code",
   "execution_count": 56,
   "metadata": {},
   "outputs": [
    {
     "data": {
      "text/plain": [
       "[6, 5, 4, 3, 2, 1]"
      ]
     },
     "execution_count": 56,
     "metadata": {},
     "output_type": "execute_result"
    }
   ],
   "source": [
    "reverse_([1,2,3,4,5,6])"
   ]
  },
  {
   "cell_type": "code",
   "execution_count": 60,
   "metadata": {},
   "outputs": [],
   "source": [
    "# using while loop.\n",
    "def reverse_1(arr):\n",
    "    i = 0\n",
    "    j = len(arr)-1\n",
    "    while i < j :\n",
    "        arr[i] , arr[j] = arr[j] , arr[i]\n",
    "        i +=1\n",
    "        j -=1\n",
    "\n",
    "    return arr    "
   ]
  },
  {
   "cell_type": "code",
   "execution_count": 61,
   "metadata": {},
   "outputs": [
    {
     "data": {
      "text/plain": [
       "[6, 5, 4, 3, 2, 1]"
      ]
     },
     "execution_count": 61,
     "metadata": {},
     "output_type": "execute_result"
    }
   ],
   "source": [
    "reverse_1([1,2,3,4,5,6])"
   ]
  },
  {
   "cell_type": "code",
   "execution_count": 64,
   "metadata": {},
   "outputs": [],
   "source": [
    "#\n",
    "def reverse_rec(arr , i , j):\n",
    "    if i>j :\n",
    "        return arr\n",
    "    \n",
    "    else:\n",
    "        arr[i] , arr[j] = arr[j] ,arr[i]\n",
    "        return reverse_rec(arr,i+1 , j-1)"
   ]
  },
  {
   "cell_type": "code",
   "execution_count": 66,
   "metadata": {},
   "outputs": [
    {
     "data": {
      "text/plain": [
       "[6, 5, 4, 3, 2, 1]"
      ]
     },
     "execution_count": 66,
     "metadata": {},
     "output_type": "execute_result"
    }
   ],
   "source": [
    "reverse_rec([1,2,3,4,5,6],0,5)"
   ]
  },
  {
   "cell_type": "code",
   "execution_count": 82,
   "metadata": {},
   "outputs": [],
   "source": [
    "# Check Array is Palindrome or not\n",
    "def CheckPalindrome(arr):\n",
    "    left = 0\n",
    "    right = len(arr)-1\n",
    "    while left < right :\n",
    "        if arr[left] != arr[right]:\n",
    "            return False\n",
    "        \n",
    "        arr[left] , arr[right] = arr[right] , arr[left]\n",
    "        left +=1\n",
    "        right-=1\n",
    "    return True    \n"
   ]
  },
  {
   "cell_type": "code",
   "execution_count": 84,
   "metadata": {},
   "outputs": [
    {
     "data": {
      "text/plain": [
       "True"
      ]
     },
     "execution_count": 84,
     "metadata": {},
     "output_type": "execute_result"
    }
   ],
   "source": [
    "CheckPalindrome([1,2,3,2,1])"
   ]
  },
  {
   "cell_type": "code",
   "execution_count": 91,
   "metadata": {},
   "outputs": [
    {
     "data": {
      "text/plain": [
       "[4, 5, 6, 1, 2, 3]"
      ]
     },
     "execution_count": 91,
     "metadata": {},
     "output_type": "execute_result"
    }
   ],
   "source": [
    "# Rotate the Array L to Right Clock-wise\n",
    "\n",
    "def rotate_arr(arr , k):\n",
    "    k = k % len(arr)\n",
    "    return arr[-k:] + arr[:-k]\n",
    "\n",
    "arr = [1,2,3,4,5,6]\n",
    "k = 3\n",
    "rotate_arr(arr,k)"
   ]
  },
  {
   "cell_type": "code",
   "execution_count": 3,
   "metadata": {},
   "outputs": [
    {
     "name": "stdout",
     "output_type": "stream",
     "text": [
      "[1, 2]\n"
     ]
    }
   ],
   "source": [
    "arr = [1,2,3,4,5]\n",
    "print(arr[:-3])"
   ]
  },
  {
   "cell_type": "code",
   "execution_count": null,
   "metadata": {},
   "outputs": [],
   "source": [
    "# def Rotate(arr,k):\n",
    "#     k = k%len(arr)\n",
    "#     for i in range(k):  # number of times rotation take place\n",
    "#         prev = arr[0]\n",
    "#         curr = arr[0]\n",
    "#         arr[0] = arr[len(arr)-1]\n",
    "#         j = 1\n",
    "#         # logic of rotation fist time left to right\n",
    "#         while j<len(arr):\n",
    "#             curr = arr[j]\n",
    "#             arr[j] = prev\n",
    "#             prev = curr\n",
    "#             j+=1\n",
    "\n",
    "#     return arr\n",
    "\n"
   ]
  },
  {
   "cell_type": "code",
   "execution_count": 4,
   "metadata": {},
   "outputs": [],
   "source": [
    "def Rotate(arr , k):\n",
    "    k = k%len(arr)\n",
    "    for i in range(k): # this logic is for number of time rotations.....\n",
    "\n",
    "        prev = arr[0]\n",
    "        curr = arr[0]\n",
    "        arr[0] = arr[len(arr)-1]\n",
    "        j = 1\n",
    "        #This logic for number ot rotation\n",
    "        while j<len(arr) :\n",
    "            curr = arr[j]\n",
    "            arr[j] = prev\n",
    "            prev = curr\n",
    "            j+=1\n",
    "\n",
    "    return arr        "
   ]
  },
  {
   "cell_type": "code",
   "execution_count": 5,
   "metadata": {},
   "outputs": [
    {
     "data": {
      "text/plain": [
       "[3, 4, 5, 1, 2]"
      ]
     },
     "execution_count": 5,
     "metadata": {},
     "output_type": "execute_result"
    }
   ],
   "source": [
    "Rotate([1,2,3,4,5],3)"
   ]
  },
  {
   "cell_type": "code",
   "execution_count": 7,
   "metadata": {},
   "outputs": [
    {
     "name": "stdout",
     "output_type": "stream",
     "text": [
      "[5, 4, 3, 2, 1]\n"
     ]
    }
   ],
   "source": [
    "arr = [1,2,3,4,5]\n",
    "k = 3\n",
    "arr1 = arr[::-1]\n",
    "print(arr1)"
   ]
  },
  {
   "cell_type": "code",
   "execution_count": null,
   "metadata": {},
   "outputs": [],
   "source": [
    "# online typing test"
   ]
  }
 ],
 "metadata": {
  "kernelspec": {
   "display_name": "Python 3",
   "language": "python",
   "name": "python3"
  },
  "language_info": {
   "codemirror_mode": {
    "name": "ipython",
    "version": 3
   },
   "file_extension": ".py",
   "mimetype": "text/x-python",
   "name": "python",
   "nbconvert_exporter": "python",
   "pygments_lexer": "ipython3",
   "version": "3.11.0"
  }
 },
 "nbformat": 4,
 "nbformat_minor": 2
}
