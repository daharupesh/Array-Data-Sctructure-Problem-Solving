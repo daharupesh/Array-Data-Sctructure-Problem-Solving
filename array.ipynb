{
 "cells": [
  {
   "cell_type": "code",
   "execution_count": 17,
   "metadata": {},
   "outputs": [
    {
     "name": "stdout",
     "output_type": "stream",
     "text": [
      "282\n"
     ]
    }
   ],
   "source": [
    "# summation of array elements..\n",
    "#arr = [23, 34 ,64 ,12, 25,56,68]\n",
    "# space Complexity = O(1)\n",
    "# Time Complexity = O(n)\n",
    "def summationOfArray(arr):\n",
    "    sum = 0\n",
    "    for i in arr:\n",
    "        sum +=i\n",
    "\n",
    "    return sum    \n",
    "\n",
    "arr = [23, 34 ,64 ,12, 25,56,68]\n",
    "print(summationOfArray(arr))"
   ]
  },
  {
   "cell_type": "code",
   "execution_count": 9,
   "metadata": {},
   "outputs": [
    {
     "name": "stdout",
     "output_type": "stream",
     "text": [
      "the 22 elements at index: 5\n"
     ]
    }
   ],
   "source": [
    "# linearSearch ..\n",
    "# [12, 14, 16, 18, 11, 22, 26, 29]\n",
    "# time Complexity = O(n)\n",
    "# Space Complexity = O(1)\n",
    "\n",
    "def linearSearch(arr , target):\n",
    "    for i in range(len(arr)):\n",
    "        if arr[i] == target:\n",
    "            return f\"the {target} elements at index: {i}\"\n",
    "        \n",
    "    return f\"the {target} not found in array.\"\n",
    "\n",
    "\n",
    "arr = [12, 14, 16, 18, 11, 22, 26, 29]\n",
    "print(linearSearch(arr , 22))\n",
    "\n",
    "        \n"
   ]
  },
  {
   "cell_type": "code",
   "execution_count": 10,
   "metadata": {},
   "outputs": [
    {
     "name": "stdout",
     "output_type": "stream",
     "text": [
      "([2, 18, 22], [5, 11, 13, 15])\n"
     ]
    }
   ],
   "source": [
    "#EvenAndOdd\n",
    "#arr = [2, 5, 11, 13, 15, 18, 22]\n",
    "\n",
    "\n",
    "\n",
    "def evenAndOdd(arr):\n",
    "    evenArray = []\n",
    "    oddArray = []\n",
    "    for i in arr:\n",
    "        if i%2==0:\n",
    "            evenArray.append(i)\n",
    "\n",
    "        else:\n",
    "            oddArray.append(i)\n",
    "    return evenArray,oddArray        \n",
    "\n",
    "\n",
    "arr1 = [2, 5, 11, 13, 15, 18, 22]\n",
    "print(evenAndOdd(arr1))\n"
   ]
  },
  {
   "cell_type": "code",
   "execution_count": 24,
   "metadata": {},
   "outputs": [
    {
     "data": {
      "text/plain": [
       "'the sum of primary Diagonal is 32 and The sum of secondary Diagonal is 20'"
      ]
     },
     "execution_count": 24,
     "metadata": {},
     "output_type": "execute_result"
    }
   ],
   "source": [
    "# Find the sum of PrimaryDiagonal and Secondary Diagonal\n",
    "# arr [[2,4,6],[8,11,13],[14,17,19]]\n",
    "# In Square Matrix\n",
    "\n",
    "\n",
    "def sumOfDiagonal2DArray(arr):\n",
    "    sumPrimaryDiagonal= 0\n",
    "    sumSecondaryDiagonal = 0\n",
    "    for i in range(len(arr)):\n",
    "        for j in range(len(arr)):\n",
    "            if i == j:\n",
    "                sumPrimaryDiagonal += arr[i][j]\n",
    "\n",
    "\n",
    "            elif (i + j) == (len(arr)-1):\n",
    "                sumSecondaryDiagonal += arr[i][j]\n",
    "\n",
    "    return f\"the sum of primary Diagonal is {sumPrimaryDiagonal} and The sum of secondary Diagonal is {sumSecondaryDiagonal}\"            \n",
    "\n",
    "arr =[[2,4,6],[8,11,13],[14,17,19]]\n",
    "sumOfDiagonal2DArray(arr)\n"
   ]
  },
  {
   "cell_type": "code",
   "execution_count": 13,
   "metadata": {},
   "outputs": [
    {
     "data": {
      "text/plain": [
       "3"
      ]
     },
     "execution_count": 13,
     "metadata": {},
     "output_type": "execute_result"
    }
   ],
   "source": [
    "arr =[[2,4,6],[8,11,13],[14,17,19]]"
   ]
  },
  {
   "cell_type": "markdown",
   "metadata": {},
   "source": [
    "1. Given an array, check if it contains any duplicates or not.\n",
    "arr = [1, 2, 4, 2, 5, 9]\n",
    "Output = True"
   ]
  },
  {
   "cell_type": "code",
   "execution_count": 32,
   "metadata": {},
   "outputs": [
    {
     "data": {
      "text/plain": [
       "True"
      ]
     },
     "execution_count": 32,
     "metadata": {},
     "output_type": "execute_result"
    }
   ],
   "source": [
    "#time complexity = O(n^2)\n",
    "def Check_duplicate(arr):\n",
    "    size = len(arr)\n",
    "    for i in range(size-1):\n",
    "        for j in range(i+1,size):\n",
    "            if arr[i]==arr[j]:\n",
    "                return True\n",
    "            \n",
    "    return False        \n",
    "            \n",
    "arr = [1,4,2,5,9,0,12,2]\n",
    "Check_duplicate(arr)        \n"
   ]
  },
  {
   "cell_type": "code",
   "execution_count": 35,
   "metadata": {},
   "outputs": [
    {
     "data": {
      "text/plain": [
       "False"
      ]
     },
     "execution_count": 35,
     "metadata": {},
     "output_type": "execute_result"
    }
   ],
   "source": [
    "def check_duplicate_(arr):\n",
    "    size = len(arr)\n",
    "    for i in range(size-1):\n",
    "       if arr[i] in arr[i+1:size]:\n",
    "           return True\n",
    "       \n",
    "    else:\n",
    "        return False\n",
    "\n",
    "arr = [1,4,2,5,9,0,12]\n",
    "check_duplicate_(arr)            "
   ]
  },
  {
   "cell_type": "code",
   "execution_count": 40,
   "metadata": {},
   "outputs": [
    {
     "data": {
      "text/plain": [
       "True"
      ]
     },
     "execution_count": 40,
     "metadata": {},
     "output_type": "execute_result"
    }
   ],
   "source": [
    "# Time Complexity  = O(n)\n",
    "def check_duplicates(arr):\n",
    "    seen = set()\n",
    "    for i in arr:\n",
    "        if i in seen:\n",
    "            return True\n",
    "        \n",
    "        seen.add(i)\n",
    "\n",
    "    \n",
    "    return False    \n",
    "arr = [1,4,2,5,9,0,2]\n",
    "check_duplicates(arr)        "
   ]
  },
  {
   "cell_type": "markdown",
   "metadata": {},
   "source": [
    "2. Given an array and an integer k, rotate the array to the right by k steps.\n",
    "arr = [1, 2, 3, 4, 5, 6, 7] k = 3\n",
    "Output = [5, 6, 7, 1, 2, 3, 4]"
   ]
  },
  {
   "cell_type": "code",
   "execution_count": 41,
   "metadata": {},
   "outputs": [
    {
     "data": {
      "text/plain": [
       "7"
      ]
     },
     "execution_count": 41,
     "metadata": {},
     "output_type": "execute_result"
    }
   ],
   "source": [
    "\n",
    "arr.pop()"
   ]
  },
  {
   "cell_type": "code",
   "execution_count": 60,
   "metadata": {},
   "outputs": [
    {
     "name": "stdout",
     "output_type": "stream",
     "text": [
      "[2, 3, 4, 5, 6, 7, 1]\n"
     ]
    }
   ],
   "source": [
    "# This is simple logic and its only work when k is less than or equal to the len of arr.\n",
    "def Rotate_arr(arr,k):\n",
    "    rotate_array = []\n",
    "\n",
    "    while k > 0:\n",
    "        elements= arr.pop()\n",
    "        rotate_array.insert(0, elements)\n",
    "        \n",
    "        k = k-1\n",
    "    rotate_array.extend(arr)\n",
    "    return rotate_array\n",
    "    \n",
    "\n",
    "arr = [1, 2, 3, 4, 5, 6, 7]\n",
    "print(Rotate_arr(arr,6))\n",
    "\n"
   ]
  },
  {
   "cell_type": "code",
   "execution_count": 70,
   "metadata": {},
   "outputs": [
    {
     "name": "stdout",
     "output_type": "stream",
     "text": [
      "1\n"
     ]
    },
    {
     "data": {
      "text/plain": [
       "[7, 1, 2, 3, 4, 5, 6]"
      ]
     },
     "execution_count": 70,
     "metadata": {},
     "output_type": "execute_result"
    }
   ],
   "source": [
    "def rotateArray(arr , k):\n",
    "    n= len(arr)\n",
    "    k = k % n\n",
    "    print(k)\n",
    "    rotate_array = [0]*n\n",
    "\n",
    "    for i in range(n):\n",
    "        rotate_array[(k+i)%n] = arr[i]\n",
    "\n",
    "\n",
    "\n",
    "    return rotate_array    \n",
    "\n",
    "arr = [1, 2, 3, 4, 5, 6, 7]\n",
    "rotateArray(arr,8)    \n",
    "    "
   ]
  },
  {
   "cell_type": "code",
   "execution_count": 75,
   "metadata": {},
   "outputs": [
    {
     "name": "stdout",
     "output_type": "stream",
     "text": [
      "[6, 7, 1, 2, 3, 4, 5]\n"
     ]
    }
   ],
   "source": [
    "# Most Optimized code with time complexity = O(1)\n",
    "\n",
    "def rotateArray(arr , k):\n",
    "    n= len(arr)\n",
    "    k = k % n\n",
    "    print(arr[-k:] + arr[:-k] ) \n",
    "\n",
    "arr = [1, 2, 3, 4, 5, 6, 7]\n",
    "rotateArray(arr,2)    \n",
    "    "
   ]
  },
  {
   "cell_type": "markdown",
   "metadata": {},
   "source": [
    "3. Reverse the given array in-place, means without using any extra data structure.\n",
    "arr = [2, 4, 5, 7, 9, 12]\n",
    "Output = [12, 9, 7, 5, 4, 2]"
   ]
  },
  {
   "cell_type": "code",
   "execution_count": 80,
   "metadata": {},
   "outputs": [
    {
     "data": {
      "text/plain": [
       "[12, 9, 7, 5, 4, 2]"
      ]
     },
     "execution_count": 80,
     "metadata": {},
     "output_type": "execute_result"
    }
   ],
   "source": [
    "def reversed_array(arr):\n",
    "    return arr[::-1]\n",
    "\n",
    "\n",
    "arr = [2, 4, 5, 7, 9, 12]\n",
    "reversed_array(arr)\n"
   ]
  },
  {
   "cell_type": "markdown",
   "metadata": {},
   "source": [
    "4. Given an array of integers, find the maximum element in an array\n",
    "arr = [10, 5, 20, 8, 15]\n",
    "Output = 20"
   ]
  },
  {
   "cell_type": "code",
   "execution_count": 82,
   "metadata": {},
   "outputs": [
    {
     "data": {
      "text/plain": [
       "45"
      ]
     },
     "execution_count": 82,
     "metadata": {},
     "output_type": "execute_result"
    }
   ],
   "source": [
    "def findMaxValue(arr):\n",
    "    max_element = 0\n",
    "    for i in range(len(arr)):\n",
    "        if arr[i]>max_element:\n",
    "            max_element = arr[i]\n",
    "\n",
    "    return max_element\n",
    "\n",
    "arr = [10, 5, 20, 8, 45]\n",
    "findMaxValue(arr)   "
   ]
  },
  {
   "cell_type": "markdown",
   "metadata": {},
   "source": [
    "5. Given a sorted array, remove the duplicate element without using any extra data structure.\n",
    "arr = [1, 1, 2, 2, 2, 3, 3, 4, 4, 4, 5, 5]\n",
    "Output = [1, 2, 3, 4, 5]"
   ]
  },
  {
   "cell_type": "code",
   "execution_count": 84,
   "metadata": {},
   "outputs": [
    {
     "name": "stdout",
     "output_type": "stream",
     "text": [
      "[1, 2, 3, 4, 5]\n"
     ]
    }
   ],
   "source": [
    "def removeDuplicate(arr):\n",
    "    return list(set(arr))\n",
    "\n",
    "arr = [1, 1, 2, 2, 2, 3, 3, 4, 4, 4, 5, 5]\n",
    "print(removeDuplicate(arr))\n"
   ]
  },
  {
   "cell_type": "code",
   "execution_count": 87,
   "metadata": {},
   "outputs": [
    {
     "name": "stdout",
     "output_type": "stream",
     "text": [
      "[1, 2, 3, 4, 5, 6]\n"
     ]
    }
   ],
   "source": [
    "def removeDuplicate_(arr):\n",
    "    if not arr:\n",
    "        return arr\n",
    "    \n",
    "    index = 0\n",
    "\n",
    "    for i in range(1, len(arr)):\n",
    "        if arr[i] != arr[index]:\n",
    "            index +=1\n",
    "            arr[index] = arr[i]\n",
    "\n",
    "    return arr[:index+1]     \n",
    "arr = [1, 1, 2, 2, 2, 3, 3, 4, 4, 4, 5, 5,6,6]\n",
    "print(removeDuplicate(arr))\n",
    "\n"
   ]
  },
  {
   "cell_type": "code",
   "execution_count": 88,
   "metadata": {},
   "outputs": [
    {
     "data": {
      "text/plain": [
       "15"
      ]
     },
     "execution_count": 88,
     "metadata": {},
     "output_type": "execute_result"
    }
   ],
   "source": [
    "# sum of digit of the number...\n",
    "# n = 12345 result = 1+2+3+4+5 = 15\n",
    "\n",
    "def findSumDigits(n):\n",
    "    sum = 0\n",
    "    while n>0:\n",
    "        remainder = n%10\n",
    "        sum +=remainder\n",
    "        n//=10\n",
    "\n",
    "    return sum\n",
    "\n",
    "findSumDigits(12345)    \n"
   ]
  },
  {
   "cell_type": "code",
   "execution_count": 90,
   "metadata": {},
   "outputs": [
    {
     "data": {
      "text/plain": [
       "22"
      ]
     },
     "execution_count": 90,
     "metadata": {},
     "output_type": "execute_result"
    }
   ],
   "source": [
    "def findSumDigit(n):\n",
    "    if n<=9:\n",
    "        return n\n",
    "    \n",
    "    else:\n",
    "        return (n%10)+ findSumDigit(n//10)\n",
    "\n",
    "findSumDigit(123457)    \n"
   ]
  },
  {
   "cell_type": "code",
   "execution_count": 101,
   "metadata": {},
   "outputs": [],
   "source": [
    "# finding the power of number \n",
    "def findPower(n,p):\n",
    "    calculate = 1\n",
    "    for i in range(p):\n",
    "        calculate*=n\n",
    "\n",
    "    return calculate   "
   ]
  },
  {
   "cell_type": "code",
   "execution_count": 105,
   "metadata": {},
   "outputs": [
    {
     "data": {
      "text/plain": [
       "16"
      ]
     },
     "execution_count": 105,
     "metadata": {},
     "output_type": "execute_result"
    }
   ],
   "source": [
    "findPower(2,4)"
   ]
  },
  {
   "cell_type": "code",
   "execution_count": 106,
   "metadata": {},
   "outputs": [],
   "source": [
    "# finding the power of number by using recursion...\n",
    "def findPowerNumber(n,p):\n",
    "    if p == 0:\n",
    "        return 1\n",
    "    \n",
    "    else:\n",
    "        return n*findPowerNumber(n,p-1)"
   ]
  },
  {
   "cell_type": "code",
   "execution_count": 111,
   "metadata": {},
   "outputs": [
    {
     "data": {
      "text/plain": [
       "1296"
      ]
     },
     "execution_count": 111,
     "metadata": {},
     "output_type": "execute_result"
    }
   ],
   "source": [
    "findPowerNumber(6,4)"
   ]
  },
  {
   "cell_type": "code",
   "execution_count": 121,
   "metadata": {},
   "outputs": [],
   "source": [
    "def findPowerNumber(n,p):\n",
    "    if n == 1:\n",
    "        return n\n",
    "    \n",
    "    elif p==0:\n",
    "        return 1\n",
    "    \n",
    "    else:\n",
    "        return n*findPowerNumber(n,p-1)"
   ]
  },
  {
   "cell_type": "code",
   "execution_count": 122,
   "metadata": {},
   "outputs": [
    {
     "data": {
      "text/plain": [
       "32"
      ]
     },
     "execution_count": 122,
     "metadata": {},
     "output_type": "execute_result"
    }
   ],
   "source": [
    "findPowerNumber(2,5)"
   ]
  },
  {
   "cell_type": "code",
   "execution_count": 125,
   "metadata": {},
   "outputs": [],
   "source": [
    "def findPowerN(n,r):\n",
    "    if r == 1:\n",
    "        return n\n",
    "    \n",
    "    elif r==0:\n",
    "        return 1\n",
    "    \n",
    "    else:\n",
    "        mid = r//2\n",
    "        result = findPowerN(n,mid)\n",
    "        powerValue = result * result\n",
    "        if r%2==0:\n",
    "            return powerValue\n",
    "        \n",
    "        else:\n",
    "            return n*powerValue\n",
    "        \n",
    "\n",
    "    \n"
   ]
  },
  {
   "cell_type": "code",
   "execution_count": 129,
   "metadata": {},
   "outputs": [
    {
     "data": {
      "text/plain": [
       "32"
      ]
     },
     "execution_count": 129,
     "metadata": {},
     "output_type": "execute_result"
    }
   ],
   "source": [
    "findPowerN(2,5)"
   ]
  },
  {
   "cell_type": "code",
   "execution_count": 130,
   "metadata": {},
   "outputs": [],
   "source": [
    "# \n",
    "def fib(n):\n",
    "    if n<=1:\n",
    "        return n\n",
    "    else:\n",
    "        return fib(n-1) + fib(n-2)"
   ]
  },
  {
   "cell_type": "code",
   "execution_count": 151,
   "metadata": {},
   "outputs": [],
   "source": [
    "# 0,1,1,2,3,5,8,13,21\n",
    "def fib(n):\n",
    "    if n<=1:\n",
    "        return n\n",
    "    \n",
    "    first = 1\n",
    "    second = 2\n",
    "    for i in range(3,n):\n",
    "        third = first + second\n",
    "        first = second\n",
    "        second = third\n",
    "\n",
    "    return second\n",
    "\n",
    "\n"
   ]
  },
  {
   "cell_type": "code",
   "execution_count": 156,
   "metadata": {},
   "outputs": [
    {
     "data": {
      "text/plain": [
       "33644764876431783266621612005107543310302148460680063906564769974680081442166662368155595513633734025582065332680836159373734790483865268263040892463056431887354544369559827491606602099884183933864652731300088830269235673613135117579297437854413752130520504347701602264758318906527890855154366159582987279682987510631200575428783453215515103870818298969791613127856265033195487140214287532698187962046936097879900350962302291026368131493195275630227837628441540360584402572114334961180023091208287046088923962328835461505776583271252546093591128203925285393434620904245248929403901706233888991085841065183173360437470737908552631764325733993712871937587746897479926305837065742830161637408969178426378624212835258112820516370298089332099905707920064367426202389783111470054074998459250360633560933883831923386783056136435351892133279732908133732642652633989763922723407882928177953580570993691049175470808931841056146322338217465637321248226383092103297701648054726243842374862411453093812206564914032751086643394517512161526545361333111314042436854805106765843493523836959653428071768775328348234345557366719731392746273629108210679280784718035329131176778924659089938635459327894523777674406192240337638674004021330343297496902028328145933418826817683893072003634795623117103101291953169794607632737589253530772552375943788434504067715555779056450443016640119462580972216729758615026968443146952034614932291105970676243268515992834709891284706740862008587135016260312071903172086094081298321581077282076353186624611278245537208532365305775956430072517744315051539600905168603220349163222640885248852433158051534849622434848299380905070483482449327453732624567755879089187190803662058009594743150052402532709746995318770724376825907419939632265984147498193609285223945039707165443156421328157688908058783183404917434556270520223564846495196112460268313970975069382648706613264507665074611512677522748621598642530711298441182622661057163515069260029861704945425047491378115154139941550671256271197133252763631939606902895650288268608362241082050562430701794976171121233066073310059947366875"
      ]
     },
     "execution_count": 156,
     "metadata": {},
     "output_type": "execute_result"
    }
   ],
   "source": [
    "fib(10000)"
   ]
  },
  {
   "cell_type": "code",
   "execution_count": 2,
   "metadata": {},
   "outputs": [],
   "source": [
    "fibDict = {\n",
    "    0: 0,\n",
    "    1: 1\n",
    "}\n",
    "\n",
    "def fibs(n):\n",
    "    if n in fibDict:\n",
    "        return fibDict[n]\n",
    "    else:\n",
    "        fibDict[n] = fibs(n - 1) + fibs(n - 2)\n",
    "        return fibDict[n]\n"
   ]
  },
  {
   "cell_type": "code",
   "execution_count": 4,
   "metadata": {},
   "outputs": [
    {
     "name": "stdout",
     "output_type": "stream",
     "text": [
      "0\n"
     ]
    }
   ],
   "source": [
    "print(fibs(0))  # Example: Output will be 55\n"
   ]
  },
  {
   "cell_type": "code",
   "execution_count": 161,
   "metadata": {},
   "outputs": [
    {
     "name": "stdout",
     "output_type": "stream",
     "text": [
      "3000\n"
     ]
    }
   ],
   "source": [
    "import sys\n",
    "\n",
    "# Check the current recursion limit\n",
    "print(sys.getrecursionlimit()) \n"
   ]
  },
  {
   "cell_type": "code",
   "execution_count": 5,
   "metadata": {},
   "outputs": [],
   "source": [
    "fibDict = {\n",
    "    0 : 0,\n",
    "    1 : 1\n",
    "}\n",
    "\n",
    "def findFib(n):\n",
    "    if n in fibDict:\n",
    "        return fibDict[n]\n",
    "    \n",
    "    else:\n",
    "        fibDict[n] = findFib(n-1) + findFib(n-2)\n",
    "        return fibDict[n]"
   ]
  },
  {
   "cell_type": "code",
   "execution_count": 8,
   "metadata": {},
   "outputs": [
    {
     "data": {
      "text/plain": [
       "5"
      ]
     },
     "execution_count": 8,
     "metadata": {},
     "output_type": "execute_result"
    }
   ],
   "source": [
    "findFib(5)"
   ]
  },
  {
   "cell_type": "code",
   "execution_count": null,
   "metadata": {},
   "outputs": [],
   "source": []
  }
 ],
 "metadata": {
  "kernelspec": {
   "display_name": "Python 3",
   "language": "python",
   "name": "python3"
  },
  "language_info": {
   "codemirror_mode": {
    "name": "ipython",
    "version": 3
   },
   "file_extension": ".py",
   "mimetype": "text/x-python",
   "name": "python",
   "nbconvert_exporter": "python",
   "pygments_lexer": "ipython3",
   "version": "3.11.0"
  }
 },
 "nbformat": 4,
 "nbformat_minor": 2
}
