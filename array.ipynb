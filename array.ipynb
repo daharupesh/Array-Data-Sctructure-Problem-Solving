{
 "cells": [
  {
   "cell_type": "code",
   "execution_count": 17,
   "metadata": {},
   "outputs": [
    {
     "name": "stdout",
     "output_type": "stream",
     "text": [
      "282\n"
     ]
    }
   ],
   "source": [
    "# summation of array elements..\n",
    "#arr = [23, 34 ,64 ,12, 25,56,68]\n",
    "# space Complexity = O(1)\n",
    "# Time Complexity = O(n)\n",
    "def summationOfArray(arr):\n",
    "    sum = 0\n",
    "    for i in arr:\n",
    "        sum +=i\n",
    "\n",
    "    return sum    \n",
    "\n",
    "arr = [23, 34 ,64 ,12, 25,56,68]\n",
    "print(summationOfArray(arr))"
   ]
  },
  {
   "cell_type": "code",
   "execution_count": 9,
   "metadata": {},
   "outputs": [
    {
     "name": "stdout",
     "output_type": "stream",
     "text": [
      "the 22 elements at index: 5\n"
     ]
    }
   ],
   "source": [
    "# linearSearch ..\n",
    "# [12, 14, 16, 18, 11, 22, 26, 29]\n",
    "# time Complexity = O(n)\n",
    "# Space Complexity = O(1)\n",
    "\n",
    "def linearSearch(arr , target):\n",
    "    for i in range(len(arr)):\n",
    "        if arr[i] == target:\n",
    "            return f\"the {target} elements at index: {i}\"\n",
    "        \n",
    "    return f\"the {target} not found in array.\"\n",
    "\n",
    "\n",
    "arr = [12, 14, 16, 18, 11, 22, 26, 29]\n",
    "print(linearSearch(arr , 22))\n",
    "\n",
    "        \n"
   ]
  },
  {
   "cell_type": "code",
   "execution_count": 10,
   "metadata": {},
   "outputs": [
    {
     "name": "stdout",
     "output_type": "stream",
     "text": [
      "([2, 18, 22], [5, 11, 13, 15])\n"
     ]
    }
   ],
   "source": [
    "#EvenAndOdd\n",
    "#arr = [2, 5, 11, 13, 15, 18, 22]\n",
    "\n",
    "\n",
    "\n",
    "def evenAndOdd(arr):\n",
    "    evenArray = []\n",
    "    oddArray = []\n",
    "    for i in arr:\n",
    "        if i%2==0:\n",
    "            evenArray.append(i)\n",
    "\n",
    "        else:\n",
    "            oddArray.append(i)\n",
    "    return evenArray,oddArray        \n",
    "\n",
    "\n",
    "arr1 = [2, 5, 11, 13, 15, 18, 22]\n",
    "print(evenAndOdd(arr1))\n"
   ]
  },
  {
   "cell_type": "code",
   "execution_count": 24,
   "metadata": {},
   "outputs": [
    {
     "data": {
      "text/plain": [
       "'the sum of primary Diagonal is 32 and The sum of secondary Diagonal is 20'"
      ]
     },
     "execution_count": 24,
     "metadata": {},
     "output_type": "execute_result"
    }
   ],
   "source": [
    "# Find the sum of PrimaryDiagonal and Secondary Diagonal\n",
    "# arr [[2,4,6],[8,11,13],[14,17,19]]\n",
    "# In Square Matrix\n",
    "\n",
    "\n",
    "def sumOfDiagonal2DArray(arr):\n",
    "    sumPrimaryDiagonal= 0\n",
    "    sumSecondaryDiagonal = 0\n",
    "    for i in range(len(arr)):\n",
    "        for j in range(len(arr)):\n",
    "            if i == j:\n",
    "                sumPrimaryDiagonal += arr[i][j]\n",
    "\n",
    "\n",
    "            elif (i + j) == (len(arr)-1):\n",
    "                sumSecondaryDiagonal += arr[i][j]\n",
    "\n",
    "    return f\"the sum of primary Diagonal is {sumPrimaryDiagonal} and The sum of secondary Diagonal is {sumSecondaryDiagonal}\"            \n",
    "\n",
    "arr =[[2,4,6],[8,11,13],[14,17,19]]\n",
    "sumOfDiagonal2DArray(arr)\n"
   ]
  },
  {
   "cell_type": "code",
   "execution_count": 13,
   "metadata": {},
   "outputs": [
    {
     "data": {
      "text/plain": [
       "3"
      ]
     },
     "execution_count": 13,
     "metadata": {},
     "output_type": "execute_result"
    }
   ],
   "source": [
    "arr =[[2,4,6],[8,11,13],[14,17,19]]"
   ]
  },
  {
   "cell_type": "markdown",
   "metadata": {},
   "source": [
    "1. Given an array, check if it contains any duplicates or not.\n",
    "arr = [1, 2, 4, 2, 5, 9]\n",
    "Output = True"
   ]
  },
  {
   "cell_type": "code",
   "execution_count": 32,
   "metadata": {},
   "outputs": [
    {
     "data": {
      "text/plain": [
       "True"
      ]
     },
     "execution_count": 32,
     "metadata": {},
     "output_type": "execute_result"
    }
   ],
   "source": [
    "#time complexity = O(n^2)\n",
    "def Check_duplicate(arr):\n",
    "    size = len(arr)\n",
    "    for i in range(size-1):\n",
    "        for j in range(i+1,size):\n",
    "            if arr[i]==arr[j]:\n",
    "                return True\n",
    "            \n",
    "    return False        \n",
    "            \n",
    "arr = [1,4,2,5,9,0,12,2]\n",
    "Check_duplicate(arr)        \n"
   ]
  },
  {
   "cell_type": "code",
   "execution_count": 35,
   "metadata": {},
   "outputs": [
    {
     "data": {
      "text/plain": [
       "False"
      ]
     },
     "execution_count": 35,
     "metadata": {},
     "output_type": "execute_result"
    }
   ],
   "source": [
    "def check_duplicate_(arr):\n",
    "    size = len(arr)\n",
    "    for i in range(size-1):\n",
    "       if arr[i] in arr[i+1:size]:\n",
    "           return True\n",
    "       \n",
    "    else:\n",
    "        return False\n",
    "\n",
    "arr = [1,4,2,5,9,0,12]\n",
    "check_duplicate_(arr)            "
   ]
  },
  {
   "cell_type": "code",
   "execution_count": 40,
   "metadata": {},
   "outputs": [
    {
     "data": {
      "text/plain": [
       "True"
      ]
     },
     "execution_count": 40,
     "metadata": {},
     "output_type": "execute_result"
    }
   ],
   "source": [
    "# Time Complexity  = O(n)\n",
    "def check_duplicates(arr):\n",
    "    seen = set()\n",
    "    for i in arr:\n",
    "        if i in seen:\n",
    "            return True\n",
    "        \n",
    "        seen.add(i)\n",
    "\n",
    "    \n",
    "    return False    \n",
    "arr = [1,4,2,5,9,0,2]\n",
    "check_duplicates(arr)        "
   ]
  },
  {
   "cell_type": "markdown",
   "metadata": {},
   "source": [
    "2. Given an array and an integer k, rotate the array to the right by k steps.\n",
    "arr = [1, 2, 3, 4, 5, 6, 7] k = 3\n",
    "Output = [5, 6, 7, 1, 2, 3, 4]"
   ]
  },
  {
   "cell_type": "code",
   "execution_count": 41,
   "metadata": {},
   "outputs": [
    {
     "data": {
      "text/plain": [
       "7"
      ]
     },
     "execution_count": 41,
     "metadata": {},
     "output_type": "execute_result"
    }
   ],
   "source": [
    "\n",
    "arr.pop()"
   ]
  },
  {
   "cell_type": "code",
   "execution_count": 60,
   "metadata": {},
   "outputs": [
    {
     "name": "stdout",
     "output_type": "stream",
     "text": [
      "[2, 3, 4, 5, 6, 7, 1]\n"
     ]
    }
   ],
   "source": [
    "# This is simple logic and its only work when k is less than or equal to the len of arr.\n",
    "def Rotate_arr(arr,k):\n",
    "    rotate_array = []\n",
    "\n",
    "    while k > 0:\n",
    "        elements= arr.pop()\n",
    "        rotate_array.insert(0, elements)\n",
    "        \n",
    "        k = k-1\n",
    "    rotate_array.extend(arr)\n",
    "    return rotate_array\n",
    "    \n",
    "\n",
    "arr = [1, 2, 3, 4, 5, 6, 7]\n",
    "print(Rotate_arr(arr,6))\n",
    "\n"
   ]
  },
  {
   "cell_type": "code",
   "execution_count": 70,
   "metadata": {},
   "outputs": [
    {
     "name": "stdout",
     "output_type": "stream",
     "text": [
      "1\n"
     ]
    },
    {
     "data": {
      "text/plain": [
       "[7, 1, 2, 3, 4, 5, 6]"
      ]
     },
     "execution_count": 70,
     "metadata": {},
     "output_type": "execute_result"
    }
   ],
   "source": [
    "def rotateArray(arr , k):\n",
    "    n= len(arr)\n",
    "    k = k % n\n",
    "    print(k)\n",
    "    rotate_array = [0]*n\n",
    "\n",
    "    for i in range(n):\n",
    "        rotate_array[(k+i)%n] = arr[i]\n",
    "\n",
    "\n",
    "\n",
    "    return rotate_array    \n",
    "\n",
    "arr = [1, 2, 3, 4, 5, 6, 7]\n",
    "rotateArray(arr,8)    \n",
    "    "
   ]
  },
  {
   "cell_type": "code",
   "execution_count": 75,
   "metadata": {},
   "outputs": [
    {
     "name": "stdout",
     "output_type": "stream",
     "text": [
      "[6, 7, 1, 2, 3, 4, 5]\n"
     ]
    }
   ],
   "source": [
    "# Most Optimized code with time complexity = O(1)\n",
    "\n",
    "def rotateArray(arr , k):\n",
    "    n= len(arr)\n",
    "    k = k % n\n",
    "    print(arr[-k:] + arr[:-k] ) \n",
    "\n",
    "arr = [1, 2, 3, 4, 5, 6, 7]\n",
    "rotateArray(arr,2)    \n",
    "    "
   ]
  },
  {
   "cell_type": "markdown",
   "metadata": {},
   "source": [
    "3. Reverse the given array in-place, means without using any extra data structure.\n",
    "arr = [2, 4, 5, 7, 9, 12]\n",
    "Output = [12, 9, 7, 5, 4, 2]"
   ]
  },
  {
   "cell_type": "code",
   "execution_count": 80,
   "metadata": {},
   "outputs": [
    {
     "data": {
      "text/plain": [
       "[12, 9, 7, 5, 4, 2]"
      ]
     },
     "execution_count": 80,
     "metadata": {},
     "output_type": "execute_result"
    }
   ],
   "source": [
    "def reversed_array(arr):\n",
    "    return arr[::-1]\n",
    "\n",
    "\n",
    "arr = [2, 4, 5, 7, 9, 12]\n",
    "reversed_array(arr)\n"
   ]
  },
  {
   "cell_type": "markdown",
   "metadata": {},
   "source": [
    "4. Given an array of integers, find the maximum element in an array\n",
    "arr = [10, 5, 20, 8, 15]\n",
    "Output = 20"
   ]
  },
  {
   "cell_type": "code",
   "execution_count": 82,
   "metadata": {},
   "outputs": [
    {
     "data": {
      "text/plain": [
       "45"
      ]
     },
     "execution_count": 82,
     "metadata": {},
     "output_type": "execute_result"
    }
   ],
   "source": [
    "def findMaxValue(arr):\n",
    "    max_element = 0\n",
    "    for i in range(len(arr)):\n",
    "        if arr[i]>max_element:\n",
    "            max_element = arr[i]\n",
    "\n",
    "    return max_element\n",
    "\n",
    "arr = [10, 5, 20, 8, 45]\n",
    "findMaxValue(arr)   "
   ]
  },
  {
   "cell_type": "markdown",
   "metadata": {},
   "source": [
    "5. Given a sorted array, remove the duplicate element without using any extra data structure.\n",
    "arr = [1, 1, 2, 2, 2, 3, 3, 4, 4, 4, 5, 5]\n",
    "Output = [1, 2, 3, 4, 5]"
   ]
  },
  {
   "cell_type": "code",
   "execution_count": 84,
   "metadata": {},
   "outputs": [
    {
     "name": "stdout",
     "output_type": "stream",
     "text": [
      "[1, 2, 3, 4, 5]\n"
     ]
    }
   ],
   "source": [
    "def removeDuplicate(arr):\n",
    "    return list(set(arr))\n",
    "\n",
    "arr = [1, 1, 2, 2, 2, 3, 3, 4, 4, 4, 5, 5]\n",
    "print(removeDuplicate(arr))\n"
   ]
  },
  {
   "cell_type": "code",
   "execution_count": 87,
   "metadata": {},
   "outputs": [
    {
     "name": "stdout",
     "output_type": "stream",
     "text": [
      "[1, 2, 3, 4, 5, 6]\n"
     ]
    }
   ],
   "source": [
    "def removeDuplicate_(arr):\n",
    "    if not arr:\n",
    "        return arr\n",
    "    \n",
    "    index = 0\n",
    "\n",
    "    for i in range(1, len(arr)):\n",
    "        if arr[i] != arr[index]:\n",
    "            index +=1\n",
    "            arr[index] = arr[i]\n",
    "\n",
    "    return arr[:index+1]     \n",
    "arr = [1, 1, 2, 2, 2, 3, 3, 4, 4, 4, 5, 5,6,6]\n",
    "print(removeDuplicate(arr))\n",
    "\n"
   ]
  },
  {
   "cell_type": "code",
   "execution_count": null,
   "metadata": {},
   "outputs": [],
   "source": []
  }
 ],
 "metadata": {
  "kernelspec": {
   "display_name": "Python 3",
   "language": "python",
   "name": "python3"
  },
  "language_info": {
   "codemirror_mode": {
    "name": "ipython",
    "version": 3
   },
   "file_extension": ".py",
   "mimetype": "text/x-python",
   "name": "python",
   "nbconvert_exporter": "python",
   "pygments_lexer": "ipython3",
   "version": "3.11.0"
  }
 },
 "nbformat": 4,
 "nbformat_minor": 2
}
